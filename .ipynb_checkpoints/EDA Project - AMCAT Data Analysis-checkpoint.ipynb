{
 "cells": [
  {
   "cell_type": "markdown",
   "id": "50e53059-2537-4614-bfa1-42245eb001b7",
   "metadata": {},
   "source": [
    "<font size=\"6\">**Step - 01 ---> Introduction**</font>\n"
   ]
  },
  {
   "cell_type": "markdown",
   "id": "904ad3cb-fa89-4ee9-aa74-27d807c9ce6f",
   "metadata": {},
   "source": [
    "<font size = \"5\">**Data Description** </font>\n",
    "\r",
    "<font size = \"4\">**The dataset is derived from the Aspiring Mind Employment Outcome 2015 (AMEO) study, focusing on employment outcomes among engineering graduates. It includes information on various aspects such as salary, job titles, job locations, standardized scores in cognitive, technical, and personality skills, as well as demographic features. The dataset contains approximately 4000 data points with around 40 independent variables, comprising both continuous and categorical data.** </font>\n",
    "\r",
    "<font size = \"5\">**Objectives:** </font>\n",
    "\n",
    "<font size=\"4\">**1.Explore employment outcomes, focusing on salary, job titles, and locations.** </font>\n",
    "\r",
    "<font size=\"4\">**2.Understand data distribution and identify outliers.** </font>\n",
    "\r",
    "<font size=\"4\">**3.Investigate relationships between variables.** </font>\n",
    "\r",
    "<font size=\"4\">**4.Address research questions regarding salary and gender-specialization preferences.** </font>\n",
    "\n",
    "<font size=\"4\">**5.Provide actionable insights for career development, recruitment, and education in the engineering domain.** </font>\r\n",
    "\n",
    "\n",
    "\n",
    "\n"
   ]
  },
  {
   "cell_type": "markdown",
   "id": "3980c2d5-87ab-4d53-bec1-2a720707db47",
   "metadata": {},
   "source": [
    "<font size = \"6\">**Step 2 - Import the data and display the head, shape, and description of the data:** </font>"
   ]
  },
  {
   "cell_type": "code",
   "execution_count": null,
   "id": "c85e6a63-b309-4291-91e7-ce8784b0a28f",
   "metadata": {},
   "outputs": [],
   "source": [
    "import pandas as pd\n",
    "import numpy as np"
   ]
  },
  {
   "cell_type": "code",
   "execution_count": null,
   "id": "cdcfa755-95f9-447d-bf68-5cc482896f28",
   "metadata": {},
   "outputs": [],
   "source": [
    "# load the dataset\n",
    "data = pd.read_excel(\"data.xlsx\")\n",
    "data"
   ]
  },
  {
   "cell_type": "code",
   "execution_count": null,
   "id": "d7e40f66-45c3-47cb-8c66-09b060864569",
   "metadata": {},
   "outputs": [],
   "source": [
    "data.head()"
   ]
  },
  {
   "cell_type": "code",
   "execution_count": null,
   "id": "100cec92-0c55-4264-a7c5-d05b67f208fa",
   "metadata": {},
   "outputs": [],
   "source": [
    "data.shape"
   ]
  },
  {
   "cell_type": "code",
   "execution_count": null,
   "id": "059352d3-0f6b-4d84-88f8-b4d1705764e4",
   "metadata": {},
   "outputs": [],
   "source": [
    "data.describe()"
   ]
  },
  {
   "cell_type": "markdown",
   "id": "c730deee-32b8-49a1-8524-2d26cbd0e7d1",
   "metadata": {},
   "source": [
    "<font size=\"5\">**Data Manipulation** </font>\n",
    "\n",
    "<font size=\"4\">**We have to clean and prepare the dataset by addressing missing values, dropping unnecessary columns, encoding categorical variables, preprocessing for modeling if needed, conducting exploratory data analysis (EDA) etc.** </font>\r\n"
   ]
  },
  {
   "cell_type": "code",
   "execution_count": null,
   "id": "8bbd3c38-9ce0-46a3-b6b4-29bdcc4abd8c",
   "metadata": {},
   "outputs": [],
   "source": [
    "data.columns"
   ]
  },
  {
   "cell_type": "code",
   "execution_count": null,
   "id": "64a2cc13-a9dc-43a8-a2d1-1cfbf0a3aa49",
   "metadata": {},
   "outputs": [],
   "source": [
    "data.drop([\"Unnamed: 0\", \"DOJ\", \"DOL\", \"CollegeCityID\", \"CollegeCityTier\", \"Domain\", \"ComputerProgramming\", \"ElectronicsAndSemicon\", \"ComputerScience\",\n",
    "\"MechanicalEngg\", \"ElectricalEngg\", \"TelecomEngg\", \"CivilEngg\"], axis=1, inplace=True)"
   ]
  },
  {
   "cell_type": "code",
   "execution_count": null,
   "id": "41183ab9-1cfc-4292-a374-ca8013c7b295",
   "metadata": {},
   "outputs": [],
   "source": [
    "data"
   ]
  },
  {
   "cell_type": "code",
   "execution_count": null,
   "id": "9ab329ed-1ef7-45db-b146-8e26a30bc33d",
   "metadata": {},
   "outputs": [],
   "source": [
    "data.info()"
   ]
  },
  {
   "cell_type": "code",
   "execution_count": null,
   "id": "c7e9ff05-5566-4a6e-9aec-dd021db83538",
   "metadata": {},
   "outputs": [],
   "source": [
    "data[\"Designation\"].unique()"
   ]
  },
  {
   "cell_type": "code",
   "execution_count": null,
   "id": "e76b2843-7ea9-4b4c-a607-1e3c92833c23",
   "metadata": {},
   "outputs": [],
   "source": [
    "data[data[\"Designation\"] == \"get\"]"
   ]
  },
  {
   "cell_type": "code",
   "execution_count": null,
   "id": "4da090cc-d67a-4180-9da9-ecfa61497957",
   "metadata": {},
   "outputs": [],
   "source": [
    "data.drop(data[data[\"Designation\"] == \"get\"].index, inplace = True)\n",
    "data"
   ]
  },
  {
   "cell_type": "code",
   "execution_count": null,
   "id": "1b7ba5ae-f52f-448e-9acc-be76062aee11",
   "metadata": {},
   "outputs": [],
   "source": [
    "data[\"Designation\"].value_counts()"
   ]
  },
  {
   "cell_type": "code",
   "execution_count": null,
   "id": "bb8b9ee6-0fe0-47dc-ab98-6f3f13050cc5",
   "metadata": {},
   "outputs": [],
   "source": [
    "data[\"Designation\"] = data[\"Designation\"].apply(lambda x : x.replace(\"ase\", \"application support engineer\") )"
   ]
  },
  {
   "cell_type": "code",
   "execution_count": null,
   "id": "31580355-a3d0-4921-9b5a-ef96c913b61f",
   "metadata": {},
   "outputs": [],
   "source": [
    "data[data[\"Designation\"] == \"ase\"]"
   ]
  },
  {
   "cell_type": "code",
   "execution_count": null,
   "id": "8081d019-530f-4529-967c-59af0e08190c",
   "metadata": {},
   "outputs": [],
   "source": [
    "res = data[\"Designation\"].unique()\n",
    "res.sort()\n",
    "print(len(res))\n",
    "res"
   ]
  },
  {
   "cell_type": "code",
   "execution_count": null,
   "id": "8103232e-c7c6-486c-b387-9799e97e0a73",
   "metadata": {},
   "outputs": [],
   "source": [
    "data[\"Designation\"] = data[\"Designation\"].replace(to_replace = \"dotnet developer\", value = \".net developer\" ,regex = False)\n",
    "data[\"Designation\"] = data[\"Designation\"].replace(to_replace = \".net web developer\", value = \".net developer\" ,regex = False)"
   ]
  },
  {
   "cell_type": "code",
   "execution_count": null,
   "id": "1761abab-7841-4826-a402-69fc74f1c10f",
   "metadata": {},
   "outputs": [],
   "source": [
    "designation_mapping = {\n",
    "    'assistant system engineer - trainee': 'assistant system engineer trainee',\n",
    "    'assistant systems engineer': 'assistant system engineer',\n",
    "    'associate software engg': 'associate software engineer',\n",
    "    'business development managerde': 'business development manager',\n",
    "    'business systems analyst': 'business system analyst',\n",
    "    'co faculty': 'computer faculty',\n",
    "    'db2 dba': 'databapplication support engineer administrator',\n",
    "    'dba': 'databapplication support engineer administrator',\n",
    "    'executive engg': 'executive engineer',\n",
    "    'front end web developer': 'front end developer',\n",
    "    'graduate trainee engineer': 'graduate engineer trainee',\n",
    "    \n",
    "    'hr executive': 'executive hr',\n",
    "    'jr. software engineer': 'junior software engineer',\n",
    "    'operations engineer and jetty handling': 'operations engineer',\n",
    "    'qa analyst': 'quality analyst',\n",
    "    'qa engineer': 'quality engineer',\n",
    "    'qa trainee': 'quality trainee',\n",
    "    'r & d': 'r&d engineer',\n",
    "    'rf/dt engineer': 'rf engineer',\n",
    "    'sales and service engineer': 'sales & service engineer',\n",
    "    'seo': 'seo analyst',\n",
    "    'software devloper': 'software developer',\n",
    "    'software eng': 'software engineer',\n",
    "    'software engg': 'software engineer',\n",
    "    'software engineere': 'software engineer',\n",
    "    'software enginner': 'software engineer',\n",
    "    'software test engineer (etl)': 'software test engineer',\n",
    "    'software test engineerte': 'software test engineer',\n",
    "    'sr. engineer': 'senior engineer',\n",
    "    'team leader': 'team lead',\n",
    "    'systems analyst': 'system analyst',\n",
    "    'systems administrator': 'system administrator',\n",
    "    'testing engineer': 'test engineer',\n",
    "    'web designer and joomla administrator': 'web designer',\n",
    "    'web designer and seo': 'web designer',\n",
    "}\n",
    "\n",
    "data['Designation'] = data['Designation'].replace(designation_mapping)"
   ]
  },
  {
   "cell_type": "code",
   "execution_count": null,
   "id": "4aa53507-4b08-484b-9460-8e70f1567430",
   "metadata": {},
   "outputs": [],
   "source": [
    "len(data[\"Designation\"].unique())"
   ]
  },
  {
   "cell_type": "code",
   "execution_count": null,
   "id": "cd2358dc-b7a0-478b-8103-f2ccfc8ed145",
   "metadata": {},
   "outputs": [],
   "source": [
    "data[\"JobCity\"].value_counts()"
   ]
  },
  {
   "cell_type": "code",
   "execution_count": null,
   "id": "f4708192-0125-4ba0-a663-3248cfa42816",
   "metadata": {},
   "outputs": [],
   "source": [
    "data[\"JobCity\"].unique()"
   ]
  },
  {
   "cell_type": "code",
   "execution_count": null,
   "id": "98c9c575-980b-444e-9b7c-188034e7f54a",
   "metadata": {},
   "outputs": [],
   "source": [
    "data[\"JobCity\"] = data[\"JobCity\"].apply(lambda x : str(x))"
   ]
  },
  {
   "cell_type": "code",
   "execution_count": null,
   "id": "a83d8c34-e1e6-4425-8033-e4620003addb",
   "metadata": {},
   "outputs": [],
   "source": [
    "data[\"JobCity\"].dtype"
   ]
  },
  {
   "cell_type": "code",
   "execution_count": null,
   "id": "96268f7e-92fb-4807-9f49-d11e738d5ae5",
   "metadata": {},
   "outputs": [],
   "source": [
    "data[\"JobCity\"] = data[\"JobCity\"].apply(lambda x : x.replace(\"-1\", \"India\") if \"-1\" in x else x )\n",
    "data[\"JobCity\"]   # data[\"JobCity\"] = data.JobCity"
   ]
  },
  {
   "cell_type": "code",
   "execution_count": null,
   "id": "3ef47a56-5bc1-4186-b9ee-f204172114f5",
   "metadata": {},
   "outputs": [],
   "source": [
    "data[\"JobCity\"].value_counts()"
   ]
  },
  {
   "cell_type": "code",
   "execution_count": null,
   "id": "b18bc13d-a586-4b8c-8576-d2206a0b11ec",
   "metadata": {},
   "outputs": [],
   "source": [
    "# Convert 'JobCity' column to uppercase\n",
    "data[\"JobCity\"] = data[\"JobCity\"].str.upper()"
   ]
  },
  {
   "cell_type": "code",
   "execution_count": null,
   "id": "f3194bdd-0b32-472a-b507-ebad00e7d8e8",
   "metadata": {},
   "outputs": [],
   "source": [
    "# Remove leading and trailing whitespaces from 'JobCity' column\n",
    "data[\"JobCity\"] = data[\"JobCity\"].str.strip()"
   ]
  },
  {
   "cell_type": "code",
   "execution_count": null,
   "id": "dcdcf978-9f9a-4195-8078-8b6173eb6264",
   "metadata": {},
   "outputs": [],
   "source": [
    "res = data[\"JobCity\"].unique()\n",
    "res.sort()\n",
    "print(len(res))\n",
    "res"
   ]
  },
  {
   "cell_type": "code",
   "execution_count": null,
   "id": "46e011f6-9c39-4e00-8016-dd9a51ff73d2",
   "metadata": {},
   "outputs": [],
   "source": [
    "data[\"JobCity\"] = data[\"JobCity\"].replace(to_replace=\"A-64,SEC-64,NOIDA\", value=\"NOIDA\", regex=False)"
   ]
  },
  {
   "cell_type": "code",
   "execution_count": null,
   "id": "b891bb1b-5db3-451d-9522-64fa6aad2fe1",
   "metadata": {},
   "outputs": [],
   "source": [
    "# Replace specific city names with standardized names\n",
    "data['JobCity'] = data['JobCity'].replace({\n",
    "    'AL JUBAIL,SAUDI ARABIA': 'INDIA',\n",
    "    'AM': 'AMBALA',\n",
    "    'AMBALA CITY': 'AMBALA',\n",
    "    'AUSTRALIA': 'INDIA',\n",
    "    'BANAGALORE': 'BANGALORE',\n",
    "    'BANAGLORE': 'BANGALORE',\n",
    "    'ASIFABADBANGLORE': 'BANGALORE',\n",
    "    'BENGALURU': 'BANGALORE',\n",
    "    'BANGLORE': 'BANGALORE',\n",
    "    'BHUBANESHWAR': 'BHUBANESWAR',\n",
    "    'BHUBNESHWAR': 'BHUBANESWAR',\n",
    "    'CHENNAI & MUMBAI': 'CHENNAI',\n",
    "    'CHENNAI, BANGALORE': 'CHENNAI',\n",
    "    'DELHI/NCR': 'DELHI',\n",
    "    'DUBAI': 'INDIA',\n",
    "    'GAZIABAAD': 'GHAZIABAD',\n",
    "    'GAZIBAAD': 'GHAZIABAD',\n",
    "    'INDIRAPURAM, GHAZIABAD': 'GHAZIABAD',\n",
    "    'GANDHINAGAR': 'GANDHI NAGAR',\n",
    "    'GREATER NOIDA': 'NOIDA',\n",
    "    'GURAGAON': 'GURGAON',\n",
    "    'GURGA': 'GURGAON',\n",
    "    'GURGOAN': 'GURGAON',\n",
    "    'HDERABAD': 'HYDERABAD',\n",
    "    'HYDERABAD(BHADURPALLY)': 'HYDERABAD',\n",
    "    'JEDDAH SAUDI ARABIA': 'INDIA',\n",
    "    'KOCHI/COCHIN': 'KOCHI',\n",
    "    'KOCHI/COCHIN, CHENNAI AND COIMBATORE': 'KOCHI',\n",
    "    'KOLKATA`': 'KOLKATA',\n",
    "    'KUDANKULAM ,TARAPUR': 'KUDANKULAM',\n",
    "    'LATUR (MAHARASHTRA )': 'LATUR',\n",
    "    'LONDON': 'INDIA',\n",
    "    'METTUR, TAMIL NADU': 'METTUR',\n",
    "    'MUZAFFARNAGAR': 'MUZAFFARPUR',\n",
    "    'MUZZAFARPUR': 'MUZAFFARPUR',\n",
    "    'NAVI MUMBAI': 'MUMBAI',\n",
    "    'NAVI MUMBAI , HYDERABAD': 'MUMBAI',\n",
    "    'NEW DEHLI': 'DELHI',\n",
    "    'NEW DELHI': 'DELHI',\n",
    "    'DEHLI': 'DELHI',\n",
    "    'NEW DELHI - JAISALMER': 'DELHI',\n",
    "    'NOUDA': 'NOIDA',\n",
    "    'PONDI': 'PONDICHERRY',\n",
    "    'PONDY': 'PONDICHERRY',\n",
    "    'PUNR': 'PUNE',\n",
    "    'RAYAGADA, ODISHA': 'ODISHA',\n",
    "    'ORISSA': 'ODISHA',\n",
    "    'SADULPUR,RAJGARH,DISTT-CHURU,RAJASTHAN': 'RAJASTHAN',\n",
    "    'SONIPAT': 'SONEPAT',\n",
    "    'TIRUPATI': 'TIRUPATHI',\n",
    "    'TECHNOPARK, TRIVANDRUM': 'TRIVANDRUM',\n",
    "    'UNA': 'UNNAO',\n",
    "    'VIZAG': 'VISAKHAPATNAM',\n",
    "    'VSAKHAPTTNAM': 'VISAKHAPATNAM',\n",
    "    'KALMAR, SWEDEN': 'INDIA',\n",
    "})\n"
   ]
  },
  {
   "cell_type": "code",
   "execution_count": null,
   "id": "7716a1fc-73f3-4ba5-ad02-cc38024196c2",
   "metadata": {},
   "outputs": [],
   "source": [
    "len(data[\"JobCity\"].unique())"
   ]
  },
  {
   "cell_type": "code",
   "execution_count": null,
   "id": "d52129b8-c983-465c-b727-ccf617db6bd3",
   "metadata": {},
   "outputs": [],
   "source": [
    "data[\"Gender\"].value_counts()"
   ]
  },
  {
   "cell_type": "code",
   "execution_count": null,
   "id": "44e7f6c0-89ca-4b28-a56d-c17a85a06669",
   "metadata": {},
   "outputs": [],
   "source": [
    "data[\"Gender\"].unique()"
   ]
  },
  {
   "cell_type": "code",
   "execution_count": null,
   "id": "5bc27bee-d449-4065-9934-d46574f5c8d5",
   "metadata": {},
   "outputs": [],
   "source": [
    "data[\"10board\"].value_counts()"
   ]
  },
  {
   "cell_type": "code",
   "execution_count": null,
   "id": "9a539f24-100f-4dea-8c93-fb48083f293e",
   "metadata": {},
   "outputs": [],
   "source": [
    "data[\"10board\"].unique()"
   ]
  },
  {
   "cell_type": "code",
   "execution_count": null,
   "id": "ddb87345-3183-483c-98c6-204f1b562471",
   "metadata": {},
   "outputs": [],
   "source": [
    "data[\"10board\"]=data[\"10board\"].apply(lambda x:str(x))\n",
    "\n",
    "data[\"10board\"] = data[\"10board\"].apply(lambda x : x.replace(\"0\", \"Indian Board of Secondary Education\") if \"0\" in x else x)"
   ]
  },
  {
   "cell_type": "code",
   "execution_count": null,
   "id": "cb1a1743-83d3-4a3a-89d3-f267e7c5d0f3",
   "metadata": {},
   "outputs": [],
   "source": [
    "data[\"10board\"].value_counts()"
   ]
  },
  {
   "cell_type": "code",
   "execution_count": null,
   "id": "b8ffb826-ef44-42c8-9b2b-260ae62d0fb9",
   "metadata": {},
   "outputs": [],
   "source": [
    "data[\"12board\"].value_counts()"
   ]
  },
  {
   "cell_type": "code",
   "execution_count": null,
   "id": "36c8908e-5178-4a21-a439-79d7565ef139",
   "metadata": {},
   "outputs": [],
   "source": [
    "data[\"12board\"].unique()"
   ]
  },
  {
   "cell_type": "code",
   "execution_count": null,
   "id": "e781491d-80d0-49af-a547-65ee515dcd3a",
   "metadata": {},
   "outputs": [],
   "source": [
    "data[\"12board\"]=data[\"12board\"].apply(lambda x:str(x))\n",
    "\n",
    "data[\"12board\"] = data[\"12board\"].apply(lambda x : x.replace(\"0\", \"Indian Board of Secondary Education\") if \"0\" in x else x)"
   ]
  },
  {
   "cell_type": "code",
   "execution_count": null,
   "id": "92f3db69-048c-445c-9c6d-d16ae8f91f7a",
   "metadata": {},
   "outputs": [],
   "source": [
    "data[\"12board\"].value_counts()"
   ]
  },
  {
   "cell_type": "code",
   "execution_count": null,
   "id": "7c8b8a76-6c41-4b86-91e2-0bbf8abed054",
   "metadata": {},
   "outputs": [],
   "source": [
    "data[\"Degree\"].value_counts()"
   ]
  },
  {
   "cell_type": "code",
   "execution_count": null,
   "id": "2f5ff1ad-37cd-49c5-bd51-8d04e82dca10",
   "metadata": {},
   "outputs": [],
   "source": [
    "data[\"Degree\"].unique()"
   ]
  },
  {
   "cell_type": "code",
   "execution_count": null,
   "id": "fa229fff-c9c7-488d-9a84-849aa3e7d5fc",
   "metadata": {},
   "outputs": [],
   "source": [
    "data[\"Specialization\"].value_counts()"
   ]
  },
  {
   "cell_type": "code",
   "execution_count": null,
   "id": "f56720ef-07b3-40bb-ac3e-13c926b061d7",
   "metadata": {},
   "outputs": [],
   "source": [
    "data[\"Specialization\"] = data[\"Specialization\"].replace(to_replace=\"electronics & instrumentation eng\", value=\"electronics and instrumentation engineering\", regex=False)"
   ]
  },
  {
   "cell_type": "code",
   "execution_count": null,
   "id": "e17f33cb-0452-4c82-b46c-c1576ba46405",
   "metadata": {},
   "outputs": [],
   "source": [
    "data[\"CollegeState\"].value_counts()"
   ]
  },
  {
   "cell_type": "code",
   "execution_count": null,
   "id": "3470616d-1a2d-4af8-a2be-54b502522ef2",
   "metadata": {},
   "outputs": [],
   "source": [
    "data[\"GraduationYear\"].value_counts()"
   ]
  },
  {
   "cell_type": "code",
   "execution_count": null,
   "id": "049671c7-e632-4e52-b37b-f511e9fc98c4",
   "metadata": {},
   "outputs": [],
   "source": [
    "data.drop(data[data[\"GraduationYear\"] == 0].index,inplace=True)\n",
    "data"
   ]
  },
  {
   "cell_type": "code",
   "execution_count": null,
   "id": "0012a0b8-57c5-4723-8711-d8325cd9d5fc",
   "metadata": {},
   "outputs": [],
   "source": [
    "data[\"GraduationYear\"].value_counts()"
   ]
  },
  {
   "cell_type": "markdown",
   "id": "e7f43d73-40e7-46fd-8481-d75b247d7ffc",
   "metadata": {},
   "source": [
    "<font size=\"5\">**## Cleaned Dataset**</font>\n"
   ]
  },
  {
   "cell_type": "code",
   "execution_count": null,
   "id": "247296b4-1fc6-406f-8bbd-edd74b98c503",
   "metadata": {},
   "outputs": [],
   "source": [
    "data.head()"
   ]
  },
  {
   "cell_type": "markdown",
   "id": "9756db51-c14d-467e-ac64-d62971791cad",
   "metadata": {},
   "source": [
    "<font size=\"6\">**Data Visualization** </font>\n",
    "\r",
    "<font size=\"6\">**Step 3: Univariate Analysis:** </font>\n",
    "\r",
    "<font size=\"5\">**I) For numerical columns:** </font>\n",
    "\n",
    "<font size=\"4\">------>**Plot Probability Density Functions (PDFs), Histograms , Boxplots , Kdeplot in all educational percentages.** </font>  \n",
    "\n",
    "<font size=\"4\">------>**Find the outliers in each numerical column.** </font>\n",
    "\n",
    "<font size=\"4\">------>**Understand the probability and frequency distribution of each numerical column** </font>\n",
    "\n",
    "<font size=\"5\">**II) For categorical columns:** </font>\n",
    "\n",
    "<font size=\"4\">------>**Plot countplots to understand the frequency distribution.** </font>\r",
    ">\n",
    "<font size=\"4\">**Mention observations after each plot.** </font>\n",
    "\r\n",
    "\n",
    "\n",
    "\n"
   ]
  },
  {
   "cell_type": "code",
   "execution_count": null,
   "id": "be79d160-2ba5-42bb-9641-92bd94303916",
   "metadata": {},
   "outputs": [],
   "source": [
    "import pandas as pd\n",
    "import matplotlib.pyplot as plt\n",
    "import seaborn as sns\n",
    "import warnings\n",
    "warnings.filterwarnings('ignore')"
   ]
  },
  {
   "cell_type": "code",
   "execution_count": null,
   "id": "785d911f-4a26-4b18-a2d8-d531f674e115",
   "metadata": {},
   "outputs": [],
   "source": [
    "data.head()"
   ]
  },
  {
   "cell_type": "markdown",
   "id": "9ff98c9d-cbfa-46c1-9020-c700373b49a4",
   "metadata": {},
   "source": [
    "<font size=\"6\">**I) For Numerical Columns:** </font>\n",
    "\n",
    "<font size=\"5\">**Histogram and PDFs in Passed Out Years:** </font>\n",
    "\n",
    "<font size=\"4\">---------->**Both Histograms and PDFs provide visualizations of the frequency distribution of numerical data.** </font>\n"
   ]
  },
  {
   "cell_type": "code",
   "execution_count": null,
   "id": "a0596688-2e7a-47ad-848b-d712f62fe39b",
   "metadata": {},
   "outputs": [],
   "source": [
    "data.describe()"
   ]
  },
  {
   "cell_type": "code",
   "execution_count": null,
   "id": "84f0f9a2-d9a0-4cc4-bd04-1fcd967d1246",
   "metadata": {},
   "outputs": [],
   "source": [
    "# Histogram and PDFs of 12graduation\n",
    "plt.figure(figsize=(8, 5))\n",
    "plt.xticks(rotation=90)\n",
    "sns.histplot(data[\"12graduation\"], color=\"red\")\n",
    "plt.title(\"Distribution of 12th Graduation Year\")\n",
    "plt.show()\n",
    "\n",
    "# OR\n",
    "# plt.figure(figsize=(10, 5))\n",
    "# plt.xticks(rotation=90)\n",
    "# plt.hist(data[\"12graduation\"], color=\"red\", bins=50)  # Adjust the number of bins as needed\n",
    "# plt.xlabel(\"12th Graduation\")\n",
    "# plt.ylabel(\"Frequency\")\n",
    "# plt.title(\"Distribution of 12th Graduation Year\")\n",
    "# plt.show()"
   ]
  },
  {
   "cell_type": "markdown",
   "id": "ed708c20-a240-42ff-a810-9357d6efa76d",
   "metadata": {},
   "source": [
    "<font size=\"4\">------>**This histogram reveals that the majority of employees are completed their 12th graduation in the year 2009.** </font>\r\n"
   ]
  },
  {
   "cell_type": "code",
   "execution_count": null,
   "id": "6118e430-b70d-4ebf-a349-99fa89dc3da5",
   "metadata": {},
   "outputs": [],
   "source": [
    "# Histogram and PDFs of GraduationYear\n",
    "plt.figure(figsize=(8, 5))\n",
    "plt.xticks(rotation=90)\n",
    "sns.histplot(data[\"GraduationYear\"], color=\"red\")\n",
    "plt.title(\"Distribution of Graduation Year\")\n",
    "plt.show()"
   ]
  },
  {
   "cell_type": "markdown",
   "id": "8fa6e575-b339-4bcb-9ec3-6ce2e8ecd721",
   "metadata": {},
   "source": [
    "<font size=\"4\">------>**This histogram reveals that the majority of employees are completed their GraduationYear in the year 2013.** </font>"
   ]
  },
  {
   "cell_type": "markdown",
   "id": "ae7fd8b3-da16-4147-b2c3-f0178c3b8dd8",
   "metadata": {},
   "source": [
    "<font size=\"5\">**kdeplot in all educational percentages** </font>\n",
    "\n",
    "<font size=\"4\">----->**A Kernel Density Estimation (KDE) plot is a non-parametric way to estimate the probability density function of a continuous random variable.** </font>\n",
    "\n",
    "<font size=\"4\">----->**KDE plot can be used to visualize the distribution of a single continuous variable. It is similar to a histogram but provides a smoother curve instead of discrete bins.** </font>"
   ]
  },
  {
   "cell_type": "code",
   "execution_count": null,
   "id": "baf1ef27-93b0-4611-8e98-4cd789b1008b",
   "metadata": {},
   "outputs": [],
   "source": [
    "# Kdeplot of 10percentage\n",
    "plt.figure(figsize=(8, 5))\n",
    "sns.kdeplot(data[\"10percentage\"], color=\"k\")"
   ]
  },
  {
   "cell_type": "markdown",
   "id": "984d000a-c47a-4593-b42b-17206c66b8fd",
   "metadata": {},
   "source": [
    "<font size=\"4\">------>**This KDE plot illustrates the density of employees' 10th percentage, revealing a left-skewed distribution where the majority of employees have around 85% in their 10th-grade exams.** </font>"
   ]
  },
  {
   "cell_type": "code",
   "execution_count": null,
   "id": "b91468f3-7468-4c5b-a0d6-e8ef84562c62",
   "metadata": {},
   "outputs": [],
   "source": [
    "# Kdeplot of 12percentage\n",
    "plt.figure(figsize=(8, 5))\n",
    "sns.kdeplot(data[\"12percentage\"], color=\"k\")"
   ]
  },
  {
   "cell_type": "markdown",
   "id": "2eb740d1-a1b3-4e46-b07d-266be01d332b",
   "metadata": {},
   "source": [
    "<font size=\"4\">------>**This KDE plot shows the density distribution of employees' 12th-grade percentages, resembling a normal distribution with the majority falling between 70% to 80%, indicating a common range for most employees' 12th-grade scores.** </font>"
   ]
  },
  {
   "cell_type": "code",
   "execution_count": null,
   "id": "82b8e38d-ccbf-41bb-824b-6dc086ec480e",
   "metadata": {},
   "outputs": [],
   "source": [
    "# Kde plot of collegeGPA\n",
    "plt.figure(figsize=(8, 5))\n",
    "sns.kdeplot(data[\"collegeGPA\"], color=\"k\")"
   ]
  },
  {
   "cell_type": "markdown",
   "id": "f9897e42-81d8-4990-9f3b-16420999e48c",
   "metadata": {},
   "source": [
    "<font size=\"4\">------>**This KDE plot illustrates the density distribution of employees' college GPA, resembling a normal distribution with the majority falling between 65 to 75, suggesting a common range for most employees' college GPAs.** </font>"
   ]
  },
  {
   "cell_type": "markdown",
   "id": "be670ab8-71ca-4f2b-87d6-92deae7ad089",
   "metadata": {},
   "source": [
    "<font size=\"5\">**Boxplot in General Intelligence** </font>"
   ]
  },
  {
   "cell_type": "code",
   "execution_count": null,
   "id": "4c73d5ce-847b-416e-9996-f72828a39e0c",
   "metadata": {},
   "outputs": [],
   "source": [
    "# Box plot of English column\n",
    "plt.figure(figsize=(8, 5))\n",
    "plt.boxplot(data[\"English\"])  # sns.boxplot(data[\"English\"])\n",
    "plt.title(\"English\")\n",
    "plt.show()"
   ]
  },
  {
   "cell_type": "markdown",
   "id": "118cfd9d-c36c-4038-9de1-3c6999ece053",
   "metadata": {},
   "source": [
    "<font size = \"4\">------->**This box plot shows the distribution of marks in the English column for each employee, indicating the presence of numerous outliers, both at the high and low extremes, suggesting substantial variability in the English scores among employees.** </font>"
   ]
  },
  {
   "cell_type": "code",
   "execution_count": null,
   "id": "026bd815-b415-44ca-a101-d70dc946d44c",
   "metadata": {},
   "outputs": [],
   "source": [
    "# Box plot of Logical column\n",
    "plt.figure(figsize=(8, 5))\n",
    "plt.boxplot(data[\"Logical\"])  \n",
    "plt.title(\"Logical\")\n",
    "plt.show()"
   ]
  },
  {
   "cell_type": "markdown",
   "id": "ad166d48-f536-4ef8-be25-31bef650b52d",
   "metadata": {},
   "source": [
    "<font size = \"4\">------->**This box plot illustrates the distribution of marks in the Logical column for each employee, revealing the presence of numerous outliers, both at the high and low extremes, indicating considerable variability in Logical scores among employees.** </font>"
   ]
  },
  {
   "cell_type": "code",
   "execution_count": null,
   "id": "ed562595-fdef-4ad2-98be-8c18f61b0680",
   "metadata": {},
   "outputs": [],
   "source": [
    "# Box plot of Quant column\n",
    "plt.figure(figsize=(8, 5))\n",
    "plt.boxplot(data[\"Quant\"]) \n",
    "plt.title(\"Quant\")\n",
    "plt.show()"
   ]
  },
  {
   "cell_type": "markdown",
   "id": "87e903f1-ce95-429c-a7f2-9064d35f0426",
   "metadata": {},
   "source": [
    "<font size = \"4\">------->**This Box plot tells abouts the Quant column it shows the marks of each employee and this column have the many outliers like high extream outliers and low extream outliers** </font>"
   ]
  },
  {
   "cell_type": "code",
   "execution_count": null,
   "id": "c642a28e-f1ba-4a14-8194-00de06acca70",
   "metadata": {},
   "outputs": [],
   "source": [
    "# Box plot of Salary column\n",
    "plt.figure(figsize=(8, 5))\n",
    "plt.boxplot(data[\"Salary\"]) \n",
    "plt.title(\"Salary\")\n",
    "plt.show()"
   ]
  },
  {
   "cell_type": "markdown",
   "id": "e42ebc0f-c2e6-4794-9abc-044f66b6c582",
   "metadata": {},
   "source": [
    "<font size = \"4\">------->**This Box plot tells abouts the Salary coloumn it shows the marks of each employee and this colomn have high extream outliers.The presence of outliers indicates that there are individuals with exceptionally high or low salaries compared to the rest of the group.** </font>"
   ]
  },
  {
   "cell_type": "markdown",
   "id": "6b3d2803-57b7-4947-b8fb-cb18654d3d58",
   "metadata": {},
   "source": [
    "<font size = \"5\">**Boxplot of all numerical columns** </font>"
   ]
  },
  {
   "cell_type": "code",
   "execution_count": null,
   "id": "376f46c7-f4f9-458e-8c8d-8c745d8a88b8",
   "metadata": {},
   "outputs": [],
   "source": [
    "## Boxplot of all numerical columns\n",
    "numerical_cols = data.select_dtypes(include=['int64', 'float64']).columns\n",
    "for col in numerical_cols:\n",
    "    plt.figure(figsize=(8, 6))\n",
    "    plt.boxplot(x=data[col])\n",
    "    plt.title(col)\n",
    "    plt.show()"
   ]
  },
  {
   "cell_type": "markdown",
   "id": "f0aa9c8f-17c3-4957-8852-764957b6cac1",
   "metadata": {},
   "source": [
    "<font size = \"5\">**After performing the box plot for each column, it can be observed that:** </font>\r\n",
    "\r\n",
    "<font size = \"5\">**Columns with Low and High Extremes Outliers:** </font>\r\n",
    "\r\n",
    "<font size = \"4\">----->**12graduation: This column exhibits both low and high extremes outliers.** </font>\r\n",
    "\r\n",
    "<font size = \"4\">----->**CollegeGPA: Similar to 12graduation, it displays outliers at both ends of the distribution.** </font>\r\n",
    "\r\n",
    "<font size = \"4\">----->**English:There are outliers present at both high and low extremes.** </font>\r\n",
    "\r\n",
    "<font size = \"4\">----->**Logical: This column also shows outliers at both ends of the distribution.** </font>\r\n",
    "\r\n",
    "<font size = \"4\">----->**Quant: Similar to Logical, it has outliers at both high and low extremes.** </font>\r\n",
    "\r\n",
    "<font size = \"5\">**Columns with No Outliers:** </font>\r\n",
    "\r\n",
    "<font size = \"4\">----->**ID: There are no outliers observed in this column.** </font>\r\n",
    "\r\n",
    "<font size = \"4\">----->**CollegeID: Similarly, this column does not contain any outliers.** </font>\r\n",
    " \r\n",
    "<font size = \"5\">**Columns with High Extremes Outliers Only:** </font>\r\n",
    "\r\n",
    "<font size = \"4\">----->**Salary: Outliers are predominantly located at the high extreme end, indicating significantly higher salaries compared to the majority of employees.** </font>\r\n",
    "\r\n",
    "<font size = \"5\">**Columns with Low Extremes Outliers Only:** </font>\r\n",
    "\r\n",
    "<font size = \"4\">----->**10percentage: Outliers are present only at the low extreme end.** </font>\r\n",
    "\r\n",
    "<font size = \"4\">----->**12percentage: Similar to 10percentage, outliers are located at the low extreme.** </font>\r\n",
    "\r\n",
    "<font size = \"4\">----->**GraduationYear: This column exhibits outliers solely at the low extreme.** </font>\r\n",
    "\r\n",
    "<font size = \"4\">**These observations provide insights into the distribution and presence of outliers across different columns in the dataset.** </font>"
   ]
  },
  {
   "cell_type": "markdown",
   "id": "33737a61-6555-4b05-b10b-9c958496b2e5",
   "metadata": {},
   "source": [
    "<font size=\"6\">**II) For categorical columns:** </font>\n",
    "\n",
    "<font size=\"4\">------>**Plot countplots to understand the frequency distribution.** </font>"
   ]
  },
  {
   "cell_type": "code",
   "execution_count": null,
   "id": "071dc811-ee3e-40ab-a4e9-176215fcbeb5",
   "metadata": {},
   "outputs": [],
   "source": [
    "# Count plot of JobCity column with color variation and adjusted label visibility\n",
    "plt.figure(figsize=(20, 50))\n",
    "plt.xticks(rotation=90)  # Rotate x-axis labels vertically\n",
    "sns.countplot(y = data[\"JobCity\"], palette=\"Set3\")  # Set color palette \n",
    "plt.xlabel(\"Frequency\")\n",
    "plt.ylabel(\"Job City\")\n",
    "plt.title(\"Frequency Distribution of Job City\")\n",
    "plt.tight_layout()  # Adjust layout to improve label visibility\n",
    "plt.show()\n"
   ]
  },
  {
   "cell_type": "markdown",
   "id": "f4c1e3c2-6562-4407-a861-3c7d8b7caf1d",
   "metadata": {},
   "source": [
    "<font size = \"4\">----->**This countplot indicates that Bangalore has the highest number of employees, while Rajpura has relatively fewer employees.** </font>"
   ]
  },
  {
   "cell_type": "code",
   "execution_count": null,
   "id": "48cf86d6-eec0-4389-849a-21393cae0976",
   "metadata": {},
   "outputs": [],
   "source": [
    "# Count plot of Degree column with color variation\n",
    "plt.figure(figsize=(10, 5))\n",
    "plt.xticks(rotation=90)  # Rotate x-axis labels vertically\n",
    "sns.countplot(x = data[\"Degree\"], palette=\"Set3\")  # Set color palette \n",
    "plt.title(\"Frequency Distribution of Degree\")\n",
    "plt.show()\n"
   ]
  },
  {
   "cell_type": "markdown",
   "id": "962433ff-bec4-4599-b861-135e0d2c7722",
   "metadata": {},
   "source": [
    "<font size = \"4\">----->**The countplot  illustrates that the majority of employees hold a degree in BTech/BE, while a few number have an MSc degree. Additionally, this plot provides insight into the distribution of various degree streams.** </font>"
   ]
  },
  {
   "cell_type": "code",
   "execution_count": null,
   "id": "50a32a13-9929-4fc8-ac31-e16beaa677b1",
   "metadata": {},
   "outputs": [],
   "source": [
    "# Count plot of CollegeState column with color variation \n",
    "plt.figure(figsize=(10, 5))\n",
    "plt.xticks(rotation=90)  # Rotate x-axis labels vertically\n",
    "sns.countplot(x = data[\"CollegeState\"], palette=\"Set3\")  # Set color palette \n",
    "plt.title(\"Frequency Distribution of CollegeState\")\n",
    "plt.show()\n"
   ]
  },
  {
   "cell_type": "markdown",
   "id": "5070a734-9516-4606-aa0e-59ebf275246d",
   "metadata": {},
   "source": [
    "<font size = \"4\">----->**This Countplot indicates the distribution of employees based on the states where they pursued their education. It reveals that the highest number of employees are from Uttar Pradesh, while there are relatively fewer employees from Meghalaya.** </font>\r\n",
    ">"
   ]
  },
  {
   "cell_type": "markdown",
   "id": "7f9b4763-f7c8-4d92-a8b1-832fecdf300c",
   "metadata": {},
   "source": [
    "Step 4: Bivariate Analysis\r\n",
    "\r\n",
    "Explore relationships between numerical columns using scatter plots, hexbin plots, pair plots, etc.\r\n",
    "Investigate patterns between categorical and numerical columns using swarm plots, boxplots, barplots, etc.\r\n",
    "Identify relationships between categorical columns using stacked bar plots.\r\n",
    "Mention observations after each plot."
   ]
  },
  {
   "cell_type": "markdown",
   "id": "d3213a12-1eb6-4f9b-bc3e-d49c447b7982",
   "metadata": {},
   "source": [
    "<font size = \"6\">**Step 4: Bivariate Analysis:** </font>\n",
    "\n",
    "<font size = \"4\">----->**Explore relationships between numerical columns using scatter plots, hexbin plots, pair plots, etc.** </font>\n",
    "\n",
    "<font size = \"4\">----->**Investigate patterns between categorical and numerical columns using swarm plots, boxplots, barplots, etc.** </font>\n",
    "\n",
    "<font size = \"4\">----->**Identify relationships between categorical columns using stacked bar plots.** </font>\n",
    "\n",
    "<font size = \"4\">----->**Mention observations after each plot.** </font>\n"
   ]
  },
  {
   "cell_type": "markdown",
   "id": "de2e18cf-7224-4b05-bffb-74189eb65568",
   "metadata": {},
   "source": [
    "<font size = \"5\">**Explore relationships between numerical columns using scatter plots, hexbin plots, pair plots, etc.** </font>\n"
   ]
  },
  {
   "cell_type": "code",
   "execution_count": null,
   "id": "89d9bbb6-5bb6-4a87-a6e4-32fef760d007",
   "metadata": {},
   "outputs": [],
   "source": [
    "# Scatterplot on Specialization,Salary comparing the Gender\n",
    "\n",
    "plt.figure(figsize = (10, 5))\n",
    "plt.xticks(rotation=90)\n",
    "sns.scatterplot(x = \"Specialization\", y = \"Salary\", data = data, hue = \"Gender\")"
   ]
  },
  {
   "cell_type": "markdown",
   "id": "be7f983c-d83e-4d8e-8cef-ea588656a4e1",
   "metadata": {},
   "source": [
    "<font size = \"4\" >------->**This scatter plot visualizes the relationship between employee specialization and salary, highlighting the gender distribution among employees. It allows us to observe how salaries vary across different specializations, while also showing the proportion of male and female employees within each specialization category.** </font>"
   ]
  },
  {
   "cell_type": "code",
   "execution_count": null,
   "id": "d3e4c070-e1ef-42e2-bbba-85cc44074b5c",
   "metadata": {},
   "outputs": [],
   "source": [
    "# Scatter plot of Salary vs. CollegeGPA\n",
    "plt.figure(figsize=(8, 6))\n",
    "plt.scatter(data[\"Salary\"], data[\"collegeGPA\"], alpha=0.5)\n",
    "plt.xlabel(\"Salary\")\n",
    "plt.ylabel(\"college GPA\")\n",
    "plt.title(\"Scatter Plot of Salary vs. College GPA\")\n",
    "plt.show()"
   ]
  },
  {
   "cell_type": "markdown",
   "id": "c154726c-f2b2-4c87-8cdd-5f2a519b13c3",
   "metadata": {},
   "source": [
    "<font size = \"4\" >------->**The scatter plot shows salary versus college GPA. Clusters of dots suggest similar salaries across GPAs at lower levels, while fewer dots are scattered at higher salaries, indicating a trend of fewer individuals earning higher incomes regardless of GPA.** </font>"
   ]
  },
  {
   "cell_type": "code",
   "execution_count": null,
   "id": "6979c37d-f9f6-4375-8694-92318714a907",
   "metadata": {},
   "outputs": [],
   "source": [
    "# Hexbin plot of Salary vs. 10percentage\n",
    "plt.figure(figsize=(8, 6))\n",
    "plt.hexbin(data[\"Salary\"], data[\"10percentage\"], gridsize=20, cmap='Blues')\n",
    "plt.xlabel(\"Salary\")\n",
    "plt.ylabel(\"10th Percentage\")\n",
    "plt.title(\"Hexbin Plot of Salary vs. 10th Percentage\")\n",
    "plt.colorbar(label='count in bin')\n",
    "plt.show()"
   ]
  },
  {
   "cell_type": "markdown",
   "id": "35cff6b5-aa29-4809-8cc1-f125dfa1d04a",
   "metadata": {},
   "source": [
    "<font size = \"4\" >------->**The hexbin plot illustrates the correlation between salary and 10th percentage using hexagonal bins. Darker shades of blue indicate higher counts, revealing regions where salary and 10th percentage are more densely distributed.** </font>"
   ]
  },
  {
   "cell_type": "code",
   "execution_count": null,
   "id": "4196dd41-510c-4751-9b46-51335823b0b5",
   "metadata": {},
   "outputs": [],
   "source": [
    "# Pair plot of numerical columns\n",
    "sns.pairplot( data, x_vars=[\"10percentage\", \"12percentage\", \"collegeGPA\"],\n",
    "                  y_vars=[\"10percentage\", \"12percentage\",\"collegeGPA\"],\n",
    "                  hue=\"Gender\")"
   ]
  },
  {
   "cell_type": "markdown",
   "id": "a0986fc7-8849-444a-af59-cd5c437f2edb",
   "metadata": {},
   "source": [
    "<font size = \"4\" >------->**This pair plot tells about all the employee's percentages and it shows the difference of male and female.** </font>"
   ]
  },
  {
   "cell_type": "markdown",
   "id": "7d4a7761-3f60-4c66-99c3-eebb27975dfa",
   "metadata": {},
   "source": [
    "<font size = \"5\">**Investigate patterns between categorical and numerical columns using swarm plots, boxplots, barplots, etc.** </font>\n"
   ]
  },
  {
   "cell_type": "code",
   "execution_count": null,
   "id": "e80a619b-37c6-438c-a286-4b977627efd2",
   "metadata": {},
   "outputs": [],
   "source": [
    "sns.swarmplot(data = data, x='Degree', y='collegeGPA')\n"
   ]
  },
  {
   "cell_type": "code",
   "execution_count": null,
   "id": "d31ce096-b102-4780-8b1d-c4dcf8fc6682",
   "metadata": {},
   "outputs": [],
   "source": []
  },
  {
   "cell_type": "code",
   "execution_count": null,
   "id": "211e3327-975a-4e74-a829-01463bbc711a",
   "metadata": {},
   "outputs": [],
   "source": [
    "# Swarm plot of Degree vs. Salary\n",
    "plt.figure(figsize=(10, 8))\n",
    "sns.swarmplot(x=\"Degree\", y=\"Salary\", data=data)\n",
    "plt.xlabel(\"Degree\")\n",
    "plt.ylabel(\"Salary\")\n",
    "plt.title(\"Swarm Plot of Degree vs. Salary\")\n",
    "plt.xticks(rotation=45)\n",
    "plt.show()\n",
    "\n",
    "# Box plot of Degree vs. Salary\n",
    "plt.figure(figsize=(10, 8))\n",
    "sns.boxplot(x=\"Degree\", y=\"Salary\", data=data)\n",
    "plt.xlabel(\"Degree\")\n",
    "plt.ylabel(\"Salary\")\n",
    "plt.title(\"Box Plot of Degree vs. Salary\")\n",
    "plt.xticks(rotation=45)\n",
    "plt.show()\n",
    "\n",
    "# Bar plot of Specialization vs. Salary\n",
    "plt.figure(figsize=(10, 8))\n",
    "sns.barplot(x=\"Specialization\", y=\"Salary\", data=data)\n",
    "plt.xlabel(\"Specialization\")\n",
    "plt.ylabel(\"Salary\")\n",
    "plt.title(\"Bar Plot of Specialization vs. Salary\")\n",
    "plt.xticks(rotation=45)\n",
    "plt.show()\n",
    "\n",
    "# Stacked bar plot of Degree and Specialization vs. Salary\n",
    "plt.figure(figsize=(10, 8))\n",
    "sns.barplot(x=\"Degree\", y=\"Salary\", hue=\"Specialization\", data=data, ci=None)\n",
    "plt.xlabel(\"Degree\")\n",
    "plt.ylabel(\"Salary\")\n",
    "plt.title(\"Stacked Bar Plot of Degree and Specialization vs. Salary\")\n",
    "plt.xticks(rotation=45)\n",
    "plt.legend(title=\"Specialization\")\n",
    "plt.show()"
   ]
  }
 ],
 "metadata": {
  "kernelspec": {
   "display_name": "Python 3 (ipykernel)",
   "language": "python",
   "name": "python3"
  },
  "language_info": {
   "codemirror_mode": {
    "name": "ipython",
    "version": 3
   },
   "file_extension": ".py",
   "mimetype": "text/x-python",
   "name": "python",
   "nbconvert_exporter": "python",
   "pygments_lexer": "ipython3",
   "version": "3.11.8"
  }
 },
 "nbformat": 4,
 "nbformat_minor": 5
}
